{
 "cells": [
  {
   "cell_type": "code",
   "execution_count": null,
   "metadata": {},
   "outputs": [],
   "source": [
    "import numpy as np\n",
    "from qiskit import execute, QuantumCircuit\n",
    "from qiskit.test.mock import FakeParis\n",
    "from qiskit.providers.aer import QasmSimulator, noise\n",
    "\n",
    "from qiskit.ignis.mitigation.measurement import (\n",
    "    MeasMitigatorGenerator,\n",
    "    MeasMitigatorFitter,\n",
    "    expectation_value)"
   ]
  },
  {
   "cell_type": "markdown",
   "metadata": {},
   "source": [
    "# Calibration of Mitigators"
   ]
  },
  {
   "cell_type": "markdown",
   "metadata": {},
   "source": [
    "## Sim noise model"
   ]
  },
  {
   "cell_type": "code",
   "execution_count": null,
   "metadata": {},
   "outputs": [],
   "source": [
    "sim = QasmSimulator()\n",
    "\n",
    "# Example max qubit number\n",
    "num_qubits = 4\n",
    "\n",
    "# Create readout errors\n",
    "readout_errors = []\n",
    "for i in range(num_qubits):\n",
    "    p_error1 = (i + 1) * 0.02\n",
    "    p_error0 = 2 * p_error1\n",
    "    ro_error = noise.ReadoutError([[1 - p_error0, p_error0], [p_error1, 1 - p_error1]])\n",
    "    readout_errors.append(ro_error)\n",
    "\n",
    "# Readout Error only\n",
    "nm = noise.NoiseModel()\n",
    "for i in range(num_qubits):\n",
    "    nm.add_readout_error(readout_errors[i], [i])\n",
    "seed_simulator = 100"
   ]
  },
  {
   "cell_type": "markdown",
   "metadata": {},
   "source": [
    "## Complete A-matrix method"
   ]
  },
  {
   "cell_type": "code",
   "execution_count": null,
   "metadata": {},
   "outputs": [],
   "source": [
    "circuits1, metadata1, _ = MeasMitigatorGenerator(num_qubits, method='complete').run()\n",
    "\n",
    "job_cal1 = execute(circuits1, sim,\n",
    "                   seed_simulator=seed_simulator,\n",
    "                   shots=10000,\n",
    "                   noise_model=nm,\n",
    "                   backend_options={'method': 'density_matrix'})\n",
    "result_cal1 = job_cal1.result()\n",
    "complete_mitigator = MeasMitigatorFitter(result_cal1, metadata1).fit(method='complete')"
   ]
  },
  {
   "cell_type": "markdown",
   "metadata": {},
   "source": [
    "### Properties of the calibrated mitigator\n",
    "We can now look at properties of the calibrated mitigator\n",
    "\n",
    "#### Mitigation Overhead"
   ]
  },
  {
   "cell_type": "code",
   "execution_count": null,
   "metadata": {},
   "outputs": [],
   "source": [
    "delta = 0.05\n",
    "print('Mitigation Overhead:', complete_mitigator.mitigation_overhead())\n",
    "print('Required Shots (delta = {}): {}'.format(delta, complete_mitigator.required_shots(delta)))"
   ]
  },
  {
   "cell_type": "markdown",
   "metadata": {},
   "source": [
    "#### Assignment Fidelities\n",
    "\n",
    "We can compute the single qubit avergage assignment fidelities from the mitigator"
   ]
  },
  {
   "cell_type": "code",
   "execution_count": null,
   "metadata": {},
   "outputs": [],
   "source": [
    "print('Assignment Fidelities')\n",
    "for i in range(num_qubits):\n",
    "    print('Qubit {}, F_m = {:.2}'.format(i, complete_mitigator.assignment_fidelity([i])))"
   ]
  },
  {
   "cell_type": "markdown",
   "metadata": {},
   "source": [
    "### Matrix Plots\n",
    "\n",
    "We can also plot the full Assigment and mitigation matrices A, and inverse(A)"
   ]
  },
  {
   "cell_type": "code",
   "execution_count": null,
   "metadata": {},
   "outputs": [],
   "source": [
    "print('\\n Assignment Matrix')\n",
    "ax1 = complete_mitigator.plot_assignment_matrix()\n",
    "\n",
    "print('\\nFull Mitigation Matrix')\n",
    "ax2 = complete_mitigator.plot_mitigation_matrix()"
   ]
  },
  {
   "cell_type": "markdown",
   "metadata": {},
   "source": [
    "## Single-qubit Tensored A-matrix method"
   ]
  },
  {
   "cell_type": "code",
   "execution_count": null,
   "metadata": {},
   "outputs": [],
   "source": [
    "circuits2, metadata2, _ = MeasMitigatorGenerator(num_qubits, method='tensored').run()\n",
    "\n",
    "job_cal2 = execute(circuits2, sim,\n",
    "                   seed_simulator=seed_simulator,\n",
    "                   shots=10000,\n",
    "                   noise_model=nm,\n",
    "                   backend_options={'method': 'density_matrix'})\n",
    "result_cal2 = job_cal2.result()\n",
    "tensored_mitigator = MeasMitigatorFitter(result_cal2, metadata2).fit(method='tensored')"
   ]
  },
  {
   "cell_type": "markdown",
   "metadata": {},
   "source": [
    "### Properties of the calibrated mitigator\n",
    "We can now look at properties of the calibrated mitigator\n",
    "\n",
    "#### Mitigation Overhead"
   ]
  },
  {
   "cell_type": "code",
   "execution_count": null,
   "metadata": {},
   "outputs": [],
   "source": [
    "delta = 0.05\n",
    "print('Mitigation Overhead:', tensored_mitigator.mitigation_overhead())\n",
    "print('Required Shots (delta = {}): {}'.format(delta, tensored_mitigator.required_shots(delta)))"
   ]
  },
  {
   "cell_type": "markdown",
   "metadata": {},
   "source": [
    "#### Assignment Fidelities\n",
    "\n",
    "We can compute the single qubit avergage assignment fidelities from the mitigator"
   ]
  },
  {
   "cell_type": "code",
   "execution_count": null,
   "metadata": {},
   "outputs": [],
   "source": [
    "print('Assignment Fidelities')\n",
    "for i in range(num_qubits):\n",
    "    print('Qubit {}, F_m = {:.2}'.format(i, tensored_mitigator.assignment_fidelity([i])))"
   ]
  },
  {
   "cell_type": "markdown",
   "metadata": {},
   "source": [
    "### Matrix Plots\n",
    "\n",
    "We can also plot the full Assigment and mitigation matrices A, and inverse(A)"
   ]
  },
  {
   "cell_type": "code",
   "execution_count": null,
   "metadata": {},
   "outputs": [],
   "source": [
    "print('\\n Assignment Matrix')\n",
    "ax1 = tensored_mitigator.plot_assignment_matrix()\n",
    "\n",
    "print('\\nFull Mitigation Matrix')\n",
    "ax2 = tensored_mitigator.plot_mitigation_matrix()"
   ]
  },
  {
   "cell_type": "markdown",
   "metadata": {},
   "source": [
    "## Continuous-Time Markov-Process Method"
   ]
  },
  {
   "cell_type": "code",
   "execution_count": null,
   "metadata": {},
   "outputs": [],
   "source": [
    "circuits3, metadata3, _ = MeasMitigatorGenerator(num_qubits, method='CTMP').run()\n",
    "\n",
    "job_cal3 = execute(circuits3, sim,\n",
    "                   seed_simulator=seed_simulator,\n",
    "                   shots=10000,\n",
    "                   noise_model=nm,\n",
    "                   backend_options={'method': 'density_matrix'})\n",
    "result_cal3 = job_cal3.result()\n",
    "ctmp_mitigator = MeasMitigatorFitter(result_cal3, metadata3).fit(method='CTMP')"
   ]
  },
  {
   "cell_type": "markdown",
   "metadata": {},
   "source": [
    "### Properties of the calibrated mitigator\n",
    "We can now look at properties of the calibrated mitigator\n",
    "\n",
    "#### Mitigation Overhead"
   ]
  },
  {
   "cell_type": "code",
   "execution_count": null,
   "metadata": {},
   "outputs": [],
   "source": [
    "delta = 0.05\n",
    "print('Mitigation Overhead:', ctmp_mitigator.mitigation_overhead())\n",
    "print('Required Shots (delta = {}): {}'.format(delta, ctmp_mitigator.required_shots(delta)))"
   ]
  },
  {
   "cell_type": "markdown",
   "metadata": {},
   "source": [
    "#### Assignment Fidelities\n",
    "\n",
    "We can compute the single qubit avergage assignment fidelities from the mitigator"
   ]
  },
  {
   "cell_type": "code",
   "execution_count": null,
   "metadata": {},
   "outputs": [],
   "source": [
    "#print('Assignment Fidelities')\n",
    "#for i in range(num_qubits):\n",
    "#    print('Qubit {}, F_m = {:.2}'.format(i, ctmp_mitigator.assignment_fidelity([i])))"
   ]
  },
  {
   "cell_type": "markdown",
   "metadata": {},
   "source": [
    "### Matrix Plots\n",
    "\n",
    "We can also plot the full Assigment and mitigation matrices A, and inverse(A)"
   ]
  },
  {
   "cell_type": "code",
   "execution_count": null,
   "metadata": {},
   "outputs": [],
   "source": [
    "ax1 = ctmp_mitigator.plot_assignment_matrix()\n",
    "ax2 = ctmp_mitigator.plot_mitigation_matrix()"
   ]
  },
  {
   "cell_type": "markdown",
   "metadata": {},
   "source": [
    "# Error Mitigation Examples"
   ]
  },
  {
   "cell_type": "markdown",
   "metadata": {},
   "source": [
    "### Expval (all-qubits)"
   ]
  },
  {
   "cell_type": "code",
   "execution_count": null,
   "metadata": {},
   "outputs": [],
   "source": [
    "# Test Circuit Measure <XXXX> stabilizer\n",
    "qc = QuantumCircuit(4, 4)\n",
    "qc.h(0)\n",
    "qc.cx(0, 1)\n",
    "qc.cx(1, 2)\n",
    "qc.cx(2, 3)\n",
    "qc.h(range(4))\n",
    "qc.measure(range(4), range(4))\n",
    "\n",
    "# Simulation\n",
    "shots = 10000\n",
    "result_target = execute(qc, sim, shots=shots).result()\n",
    "result_noise = execute(qc, sim, shots=shots, noise_model=nm).result()\n",
    "counts_target = result_target.get_counts(0)\n",
    "counts_noise = result_noise.get_counts(0)\n",
    "\n",
    "# Expvals\n",
    "expvals = [\n",
    "    ('Target', expectation_value(counts_target)),\n",
    "    ('Unmitigated', expectation_value(counts_noise)),\n",
    "    ('Mitigated (Complete)', expectation_value(counts_noise, mitigator=complete_mitigator)),\n",
    "    ('Mitigated (Tensored)', expectation_value(counts_noise, mitigator=tensored_mitigator)),\n",
    "    ('Mitigated (CTMP)', expectation_value(counts_noise, mitigator=ctmp_mitigator)),\n",
    "]\n",
    "print('\\nExpectation Values')\n",
    "for label, expval in expvals:\n",
    "    print('- {}: {:.3f} \\u00B1 {:.3f}'.format(label, expval[0], expval[1]))\n",
    "    #print('- {}: {:.4f}, stddev: {:0.4f}'.format(label, expval[0], expval[1]))"
   ]
  },
  {
   "cell_type": "markdown",
   "metadata": {},
   "source": [
    "### Expval (all-qubits, permuted)\n",
    "\n",
    "NOTE: This is not yet implemented for CTMP method"
   ]
  },
  {
   "cell_type": "code",
   "execution_count": null,
   "metadata": {},
   "outputs": [],
   "source": [
    "for meas_qubits in [[0, 1, 2, 3], [0, 1, 3, 2], [1, 3, 0, 2], [3, 0, 1, 2], [2, 0, 3, 1], [3, 2, 1, 0]]:\n",
    "\n",
    "    # Test Circuit Measure <XXXX> stabilizer\n",
    "    qc = QuantumCircuit(4, 4)\n",
    "    qc.h(0)\n",
    "    qc.cx(0, 1)\n",
    "    qc.cx(1, 2)\n",
    "    qc.cx(2, 3)\n",
    "    qc.h(range(4))\n",
    "    qc.measure(meas_qubits, range(4))\n",
    "\n",
    "    # Simulation\n",
    "    shots = 10000\n",
    "\n",
    "    result_target = execute(qc, sim, shots=shots, seed_simulator=seed_simulator).result()\n",
    "    result_noise = execute(qc, sim, shots=shots,seed_simulator=seed_simulator,\n",
    "                           noise_model=nm).result()\n",
    "    counts_target = result_target.get_counts(0)\n",
    "    counts_noise = result_noise.get_counts(0)\n",
    "\n",
    "    # Expvals\n",
    "    expvals = [\n",
    "        ('Target', expectation_value(counts_target)),\n",
    "        ('Unmitigated', expectation_value(counts_noise)),\n",
    "        ('Mitigated (Complete)', expectation_value(counts_noise, \n",
    "                                                   mitigator_qubits=meas_qubits,\n",
    "                                                   mitigator=complete_mitigator)),\n",
    "        ('Mitigated (Tensored)', expectation_value(counts_noise,\n",
    "                                                   mitigator_qubits=meas_qubits,\n",
    "                                                   mitigator=tensored_mitigator)),\n",
    "        ('Mitigated (CTMP)', expectation_value(counts_noise,\n",
    "                                               mitigator_qubits=None,\n",
    "                                               mitigator=ctmp_mitigator)),\n",
    "    ]\n",
    "    print('\\nExpectation Values (meas qubits {})'.format(meas_qubits))\n",
    "    for label, expval in expvals:\n",
    "        print('- {}: {:.3f} \\u00B1 {:.3f}'.format(label, expval[0], expval[1]))\n",
    "        #print('- {}: {:.4f}, stddev: {:0.4f}'.format(label, expval[0], expval[1]))"
   ]
  },
  {
   "cell_type": "markdown",
   "metadata": {},
   "source": [
    "### Expval Partial Qubits\n",
    "\n",
    "NOTE: This is not yet implemented for CTMP method"
   ]
  },
  {
   "cell_type": "code",
   "execution_count": null,
   "metadata": {},
   "outputs": [],
   "source": [
    "for qubits in [[0, 1], [0, 2], [0, 3], [3, 1], [2, 1], [3, 2], [2, 3]]:\n",
    "    \n",
    "    # Test Circuit\n",
    "    qc = QuantumCircuit(4, 2)\n",
    "    qc.h(qubits[0])\n",
    "    qc.cx(qubits[0], qubits[1])\n",
    "    qc.measure(qubits, [0, 1])\n",
    "\n",
    "    # Simulation\n",
    "    shots = 8000\n",
    "    seed = 1101\n",
    "    result_target = execute(qc, sim, shots=shots, seed_simulator=seed_simulator).result()\n",
    "    result_noise = execute(qc, sim, shots=shots,seed_simulator=seed_simulator,\n",
    "                           noise_model=nm).result()\n",
    "    counts_target = result_target.get_counts(0)\n",
    "    counts_noise = result_noise.get_counts(0)\n",
    "\n",
    "    # Expvals\n",
    "    expvals = [\n",
    "        ('Target', expectation_value(counts_target)),\n",
    "        ('Unmitigated', expectation_value(counts_noise)),\n",
    "        ('Mitigated (Complete)', expectation_value(counts_noise, \n",
    "                                                   mitigator_qubits=qubits,\n",
    "                                                   mitigator=complete_mitigator)),\n",
    "        ('Mitigated (Tensored)', expectation_value(counts_noise,\n",
    "                                                   mitigator_qubits=qubits,\n",
    "                                                   mitigator=tensored_mitigator)),\n",
    "        ('Mitigated (CTMP)', expectation_value(counts_noise,\n",
    "                                               mitigator_qubits=None,\n",
    "                                               mitigator=ctmp_mitigator)),\n",
    "    ]\n",
    "    print('\\nExpectation Values (meas qubits {})'.format(meas_qubits))\n",
    "    for label, expval in expvals:\n",
    "        print('- {}: {:.3f} \\u00B1 {:.3f}'.format(label, expval[0], expval[1]))\n",
    "        #print('- {}: {:.4f}, stddev: {:0.4f}'.format(label, expval[0], expval[1]))"
   ]
  }
 ],
 "metadata": {
  "kernelspec": {
   "display_name": "Python [conda env:qiskit-dev]",
   "language": "python",
   "name": "conda-env-qiskit-dev-py"
  },
  "language_info": {
   "codemirror_mode": {
    "name": "ipython",
    "version": 3
   },
   "file_extension": ".py",
   "mimetype": "text/x-python",
   "name": "python",
   "nbconvert_exporter": "python",
   "pygments_lexer": "ipython3",
   "version": "3.7.3"
  }
 },
 "nbformat": 4,
 "nbformat_minor": 4
}
