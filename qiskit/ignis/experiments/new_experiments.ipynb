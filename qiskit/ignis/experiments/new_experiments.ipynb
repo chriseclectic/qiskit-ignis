{
 "cells": [
  {
   "cell_type": "markdown",
   "metadata": {},
   "source": [
    "# Qiskit Experiment Classes\n",
    "\n",
    "This notebook demonstrates the new Experiment class interface outlines in the design doc [].\n",
    "\n",
    "It includes implementions of full experiments for:\n",
    "* `QSTExperiment` an example implementation of a basic experiment\n",
    "* `ParallelExperiment` class for combining experiments on different qubits into a single experiment\n",
    "* `BatchExperiment` class for combining arbitrary experiments into a single batch experiment\n",
    "\n",
    "The parallel and batch experiments will be used to combine various QST experiments on different numbers of qubits"
   ]
  },
  {
   "cell_type": "code",
   "execution_count": 1,
   "metadata": {},
   "outputs": [],
   "source": [
    "from qiskit import QuantumCircuit, execute\n",
    "from qiskit.providers.aer import QasmSimulator\n",
    "\n",
    "# Import Experiment Classes\n",
    "from qiskit.ignis.experiments.new import (\n",
    "    BatchExperiment,\n",
    "    ParallelExperiment,\n",
    "    QSTExperiment\n",
    ")\n",
    "\n",
    "backend = QasmSimulator()"
   ]
  },
  {
   "cell_type": "markdown",
   "metadata": {},
   "source": [
    "## Running single experiments\n",
    "\n",
    "First run several individual QST experiments"
   ]
  },
  {
   "cell_type": "code",
   "execution_count": 2,
   "metadata": {},
   "outputs": [
    {
     "data": {
      "text/plain": [
       "---------------------------------------------------\n",
       "Experiment: QSTExperiment\n",
       "Experiment ID: 08f5f73f-0462-4f81-a995-fa52ed697f93\n",
       "Status: Complete\n",
       "Qubits: [4]\n",
       "Run Circuits: 3\n",
       "Run Analysis: 1\n",
       "---------------------------------------------------\n",
       "Last Analysis Result\n",
       "- value: DensityMatrix([[0.51269084+0.j        , 0.49982366-0.00390487j],\n",
       "               [0.49982366+0.00390487j, 0.48730916+0.j        ]],\n",
       "              dims=(2,))"
      ]
     },
     "execution_count": 2,
     "metadata": {},
     "output_type": "execute_result"
    }
   ],
   "source": [
    "# 1-qubit state preparation circuit\n",
    "qc1 = QuantumCircuit(1)\n",
    "qc1.h(0)\n",
    "\n",
    "# Run QST for applying circuit to qubit-4\n",
    "exp1 = QSTExperiment(qc1, [4])\n",
    "data1 = exp1.run(backend)\n",
    "\n",
    "# View result data\n",
    "data1"
   ]
  },
  {
   "cell_type": "code",
   "execution_count": 3,
   "metadata": {},
   "outputs": [
    {
     "data": {
      "text/plain": [
       "---------------------------------------------------\n",
       "Experiment: QSTExperiment\n",
       "Experiment ID: bf1d3867-ef43-4546-91bc-fc9481f0262b\n",
       "Status: Complete\n",
       "Qubits: [1]\n",
       "Run Circuits: 3\n",
       "Run Analysis: 1\n",
       "---------------------------------------------------\n",
       "Last Analysis Result\n",
       "- value: DensityMatrix([[ 7.62764875e-05+0.j        , -7.81130818e-03-0.00390565j],\n",
       "               [-7.81130818e-03+0.00390565j,  9.99923724e-01+0.j        ]],\n",
       "              dims=(2,))"
      ]
     },
     "execution_count": 3,
     "metadata": {},
     "output_type": "execute_result"
    }
   ],
   "source": [
    "# 1-qubit state preparation circuit\n",
    "qc2 = QuantumCircuit(1)\n",
    "qc2.x(0)\n",
    "\n",
    "# Run QST for applying circuit to qubit-1\n",
    "exp2 = QSTExperiment(qc2, [1])\n",
    "data2 = exp2.run(backend)\n",
    "\n",
    "# View result data\n",
    "data2"
   ]
  },
  {
   "cell_type": "code",
   "execution_count": 4,
   "metadata": {},
   "outputs": [
    {
     "data": {
      "text/plain": [
       "---------------------------------------------------\n",
       "Experiment: QSTExperiment\n",
       "Experiment ID: 144a38a6-e1e8-442a-8914-66d862d0d452\n",
       "Status: Complete\n",
       "Qubits: [3, 0]\n",
       "Run Circuits: 9\n",
       "Run Analysis: 1\n",
       "---------------------------------------------------\n",
       "Last Analysis Result\n",
       "- value: DensityMatrix([[ 0.5070038 +0.j        ,  0.00327309-0.00417704j,\n",
       "                -0.00333746-0.00240245j,  0.49085603-0.00651908j],\n",
       "               [ 0.00327309+0.00417704j,  0.00354779+0.j        ,\n",
       "                -0.00278114-0.00208891j,  0.00150155+0.00953651j],\n",
       "               [-0.00333746+0.00240245j, -0.00278114+0.00208891j,\n",
       "                 0.00344396+0.j        , -0.00507296-0.00304422j],\n",
       "               [ 0.49085603+0.00651908j,  0.00150155-0.00953651j,\n",
       "                -0.00507296+0.00304422j,  0.48492582+0.j        ]],\n",
       "              dims=(2, 2))"
      ]
     },
     "execution_count": 4,
     "metadata": {},
     "output_type": "execute_result"
    }
   ],
   "source": [
    "# 2-qubit state preparation circuit\n",
    "qc3 = QuantumCircuit(2)\n",
    "qc3.h(0)\n",
    "qc3.cx(0, 1)\n",
    "\n",
    "# Run QST for applying circuit to qubits [3, 0]\n",
    "exp3 = QSTExperiment(qc3, [3, 0])\n",
    "data3 = exp3.run(backend)\n",
    "\n",
    "# View result data\n",
    "data3"
   ]
  },
  {
   "cell_type": "markdown",
   "metadata": {},
   "source": [
    "## Batch Experiments\n",
    "\n",
    "Next we demonstrate batch experiments where several individual experiments are grouped into a single meta-experiment. Currently this just appends the circuits from each sub experiment sequentially, but in the future it should allow shuffling or interleaving circuits from individual experiments in the batch circuit list to be executed.\n",
    "\n",
    "For a simple first demonstration we consider running multiple experiments on the same qubit (in this case the same experiment twice)"
   ]
  },
  {
   "cell_type": "code",
   "execution_count": 5,
   "metadata": {},
   "outputs": [
    {
     "data": {
      "text/plain": [
       "---------------------------------------------------\n",
       "Experiment: BatchExperiment\n",
       "Experiment ID: 08a03b41-4ce0-467a-bb40-726a44804f9e\n",
       "Status: Complete\n",
       "Qubits: [4]\n",
       "Run Circuits: 6\n",
       "Run Analysis: 1\n",
       "---------------------------------------------------\n",
       "Last Analysis Result\n",
       "- experiment_types: ['QSTExperiment', 'QSTExperiment']\n",
       "- experiment_ids: ['83b13e28-7253-4b31-967b-28ead0c8dce0', '5efd3f09-0bd6-4415-ab3d-ea7a3645a638']\n",
       "- experiment_qubits: [[4], [4]]"
      ]
     },
     "execution_count": 5,
     "metadata": {},
     "output_type": "execute_result"
    }
   ],
   "source": [
    "# Batch of two experiments both on qubit-4\n",
    "batch_exp1 = BatchExperiment(2 * [exp1])\n",
    "batch_data1 = batch_exp1.run(backend)\n",
    "\n",
    "# View result\n",
    "batch_data1"
   ]
  },
  {
   "cell_type": "markdown",
   "metadata": {},
   "source": [
    "#### Viewing sub experiment data\n",
    "\n",
    "The experiment data returned from a batched experiment also contains individual experiment data for each sub experiment which can be accessed using `experiment_data(index)`"
   ]
  },
  {
   "cell_type": "code",
   "execution_count": 6,
   "metadata": {},
   "outputs": [
    {
     "name": "stdout",
     "output_type": "stream",
     "text": [
      "---------------------------------------------------\n",
      "Experiment: QSTExperiment\n",
      "Experiment ID: 83b13e28-7253-4b31-967b-28ead0c8dce0\n",
      "Status: Complete\n",
      "Qubits: [4]\n",
      "Run Circuits: 3\n",
      "Run Analysis: 1\n",
      "---------------------------------------------------\n",
      "Last Analysis Result\n",
      "- value: DensityMatrix([[0.52826124+0.j        , 0.49895709-0.01559241j],\n",
      "               [0.49895709+0.01559241j, 0.47173876+0.j        ]],\n",
      "              dims=(2,)) \n",
      "\n",
      "---------------------------------------------------\n",
      "Experiment: QSTExperiment\n",
      "Experiment ID: 5efd3f09-0bd6-4415-ab3d-ea7a3645a638\n",
      "Status: Complete\n",
      "Qubits: [4]\n",
      "Run Circuits: 3\n",
      "Run Analysis: 1\n",
      "---------------------------------------------------\n",
      "Last Analysis Result\n",
      "- value: DensityMatrix([[0.49511855+0.j       , 0.49986082+0.0107392j],\n",
      "               [0.49986082-0.0107392j, 0.50488145+0.j       ]],\n",
      "              dims=(2,)) \n",
      "\n"
     ]
    }
   ],
   "source": [
    "# Print sub-experiment data\n",
    "for i in range(2):\n",
    "    print(batch_data1.experiment_data(i), '\\n')"
   ]
  },
  {
   "cell_type": "markdown",
   "metadata": {},
   "source": [
    "### Batches on differing qubits\n",
    "\n",
    "Batch experiments don't need to be on the same qubits, each individual one can be run on arbitrary qubits."
   ]
  },
  {
   "cell_type": "code",
   "execution_count": 7,
   "metadata": {},
   "outputs": [
    {
     "data": {
      "text/plain": [
       "---------------------------------------------------\n",
       "Experiment: BatchExperiment\n",
       "Experiment ID: bb75f733-4871-4906-a02b-1d102c1d3edc\n",
       "Status: Complete\n",
       "Qubits: [4, 1, 3, 0]\n",
       "Run Circuits: 18\n",
       "Run Analysis: 1\n",
       "---------------------------------------------------\n",
       "Last Analysis Result\n",
       "- experiment_types: ['QSTExperiment', 'QSTExperiment', 'QSTExperiment', 'QSTExperiment']\n",
       "- experiment_ids: ['d5bfb61f-2b38-4699-b4a6-b0e63e41639e', 'f7e80e20-3bdd-4be5-88fc-874e5d7689eb', '4945695d-b290-482d-93d5-86f8b006c1b6', '37490ee5-de39-4ae7-b74a-3897770c78bd']\n",
       "- experiment_qubits: [[4], [1], [4], [3, 0]]"
      ]
     },
     "execution_count": 7,
     "metadata": {},
     "output_type": "execute_result"
    }
   ],
   "source": [
    "batch_exp2 = BatchExperiment([exp1, exp2, exp1, exp3])\n",
    "batch_data2 = batch_exp2.run(backend)\n",
    "\n",
    "# Batch data\n",
    "batch_data2"
   ]
  },
  {
   "cell_type": "markdown",
   "metadata": {},
   "source": [
    "#### View sub experiment data"
   ]
  },
  {
   "cell_type": "code",
   "execution_count": 8,
   "metadata": {},
   "outputs": [
    {
     "name": "stdout",
     "output_type": "stream",
     "text": [
      "---------------------------------------------------\n",
      "Experiment: QSTExperiment\n",
      "Experiment ID: d5bfb61f-2b38-4699-b4a6-b0e63e41639e\n",
      "Status: Complete\n",
      "Qubits: [4]\n",
      "Run Circuits: 3\n",
      "Run Analysis: 1\n",
      "---------------------------------------------------\n",
      "Last Analysis Result\n",
      "- value: DensityMatrix([[0.49414121+0.j        , 0.49995042+0.00390586j],\n",
      "               [0.49995042-0.00390586j, 0.50585879+0.j        ]],\n",
      "              dims=(2,)) \n",
      "\n",
      "---------------------------------------------------\n",
      "Experiment: QSTExperiment\n",
      "Experiment ID: f7e80e20-3bdd-4be5-88fc-874e5d7689eb\n",
      "Status: Complete\n",
      "Qubits: [1]\n",
      "Run Circuits: 3\n",
      "Run Analysis: 1\n",
      "---------------------------------------------------\n",
      "Last Analysis Result\n",
      "- value: DensityMatrix([[ 1.19166674e-04+0.j        , -1.95265951e-03+0.01073963j],\n",
      "               [-1.95265951e-03-0.01073963j,  9.99880833e-01+0.j        ]],\n",
      "              dims=(2,)) \n",
      "\n",
      "---------------------------------------------------\n",
      "Experiment: QSTExperiment\n",
      "Experiment ID: 4945695d-b290-482d-93d5-86f8b006c1b6\n",
      "Status: Complete\n",
      "Qubits: [4]\n",
      "Run Circuits: 3\n",
      "Run Analysis: 1\n",
      "---------------------------------------------------\n",
      "Last Analysis Result\n",
      "- value: DensityMatrix([[0.49609461+0.j        , 0.49988941-0.00976347j],\n",
      "               [0.49988941+0.00976347j, 0.50390539+0.j        ]],\n",
      "              dims=(2,)) \n",
      "\n",
      "---------------------------------------------------\n",
      "Experiment: QSTExperiment\n",
      "Experiment ID: 37490ee5-de39-4ae7-b74a-3897770c78bd\n",
      "Status: Complete\n",
      "Qubits: [3, 0]\n",
      "Run Circuits: 9\n",
      "Run Analysis: 1\n",
      "---------------------------------------------------\n",
      "Last Analysis Result\n",
      "- value: DensityMatrix([[ 0.50794695+0.j        , -0.00052403+0.00571896j,\n",
      "                -0.01538137+0.00840311j,  0.495137  +0.01543166j],\n",
      "               [-0.00052403-0.00571896j,  0.00245273+0.j        ,\n",
      "                -0.00094296-0.00189122j, -0.00163029-0.00321381j],\n",
      "               [-0.01538137-0.00840311j, -0.00094296+0.00189122j,\n",
      "                 0.00283937+0.j        , -0.01621394-0.01082046j],\n",
      "               [ 0.495137  -0.01543166j, -0.00163029+0.00321381j,\n",
      "                -0.01621394+0.01082046j,  0.48618527+0.j        ]],\n",
      "              dims=(2, 2)) \n",
      "\n"
     ]
    }
   ],
   "source": [
    "for i in range(4):\n",
    "    print(batch_data2.experiment_data(i), '\\n')"
   ]
  },
  {
   "cell_type": "markdown",
   "metadata": {},
   "source": [
    "## Parallel Experiments\n",
    "\n",
    "Another kind of meta-experiment is a *parallel experiment*. This involves combing sub experiments on different qubits into a single experiment where each sub circuit is applied to different qubits in parallel. The total number of circuits in the parallel experiment will be equal to the largest number of circuits of the individual sub experiments.\n",
    "\n",
    "Processing is done by marginalizing the joint measurements into the exected count dictionaries defined by the classical bit registers in the individaul experiments.\n",
    "\n",
    "### Parallel tomography example\n",
    "For our example we run parallel 1 qubit QST on qubits [4] and [1], and 2-qubit QST on qubits [3, 0]. This results in 9 circuits being executed -- the number required for the 2-qubit QST experiment"
   ]
  },
  {
   "cell_type": "code",
   "execution_count": 9,
   "metadata": {},
   "outputs": [
    {
     "data": {
      "text/plain": [
       "---------------------------------------------------\n",
       "Experiment: ParallelExperiment\n",
       "Experiment ID: b81fafbe-e403-4a03-be0f-616ff897440f\n",
       "Status: Complete\n",
       "Qubits: [4, 1, 3, 0]\n",
       "Run Circuits: 9\n",
       "Run Analysis: 1\n",
       "---------------------------------------------------\n",
       "Last Analysis Result\n",
       "- experiment_types: ['QSTExperiment', 'QSTExperiment', 'QSTExperiment']\n",
       "- experiment_ids: ['dd4c0959-9299-46e7-82a8-808e231821e7', 'f1032aa8-d70d-4c34-8a00-d03024d6c7ae', '13eaac69-1a31-4951-8a34-d0393249113a']\n",
       "- experiment_qubits: [[4], [1], [3, 0]]"
      ]
     },
     "execution_count": 9,
     "metadata": {},
     "output_type": "execute_result"
    }
   ],
   "source": [
    "# Define a parallel experiment\n",
    "par_exp = ParallelExperiment([exp1, exp2, exp3])\n",
    "par_data = par_exp.run(backend)\n",
    "\n",
    "# View data\n",
    "par_data"
   ]
  },
  {
   "cell_type": "markdown",
   "metadata": {},
   "source": [
    "#### View sub experiment data"
   ]
  },
  {
   "cell_type": "code",
   "execution_count": 10,
   "metadata": {},
   "outputs": [
    {
     "name": "stdout",
     "output_type": "stream",
     "text": [
      "---------------------------------------------------\n",
      "Experiment: QSTExperiment\n",
      "Experiment ID: d5bfb61f-2b38-4699-b4a6-b0e63e41639e\n",
      "Status: Complete\n",
      "Qubits: [4]\n",
      "Run Circuits: 3\n",
      "Run Analysis: 1\n",
      "---------------------------------------------------\n",
      "Last Analysis Result\n",
      "- value: DensityMatrix([[0.49414121+0.j        , 0.49995042+0.00390586j],\n",
      "               [0.49995042-0.00390586j, 0.50585879+0.j        ]],\n",
      "              dims=(2,)) \n",
      "\n",
      "---------------------------------------------------\n",
      "Experiment: QSTExperiment\n",
      "Experiment ID: f7e80e20-3bdd-4be5-88fc-874e5d7689eb\n",
      "Status: Complete\n",
      "Qubits: [1]\n",
      "Run Circuits: 3\n",
      "Run Analysis: 1\n",
      "---------------------------------------------------\n",
      "Last Analysis Result\n",
      "- value: DensityMatrix([[ 1.19166674e-04+0.j        , -1.95265951e-03+0.01073963j],\n",
      "               [-1.95265951e-03-0.01073963j,  9.99880833e-01+0.j        ]],\n",
      "              dims=(2,)) \n",
      "\n",
      "---------------------------------------------------\n",
      "Experiment: QSTExperiment\n",
      "Experiment ID: 4945695d-b290-482d-93d5-86f8b006c1b6\n",
      "Status: Complete\n",
      "Qubits: [4]\n",
      "Run Circuits: 3\n",
      "Run Analysis: 1\n",
      "---------------------------------------------------\n",
      "Last Analysis Result\n",
      "- value: DensityMatrix([[0.49609461+0.j        , 0.49988941-0.00976347j],\n",
      "               [0.49988941+0.00976347j, 0.50390539+0.j        ]],\n",
      "              dims=(2,)) \n",
      "\n",
      "---------------------------------------------------\n",
      "Experiment: QSTExperiment\n",
      "Experiment ID: 37490ee5-de39-4ae7-b74a-3897770c78bd\n",
      "Status: Complete\n",
      "Qubits: [3, 0]\n",
      "Run Circuits: 9\n",
      "Run Analysis: 1\n",
      "---------------------------------------------------\n",
      "Last Analysis Result\n",
      "- value: DensityMatrix([[ 0.50794695+0.j        , -0.00052403+0.00571896j,\n",
      "                -0.01538137+0.00840311j,  0.495137  +0.01543166j],\n",
      "               [-0.00052403-0.00571896j,  0.00245273+0.j        ,\n",
      "                -0.00094296-0.00189122j, -0.00163029-0.00321381j],\n",
      "               [-0.01538137-0.00840311j, -0.00094296+0.00189122j,\n",
      "                 0.00283937+0.j        , -0.01621394-0.01082046j],\n",
      "               [ 0.495137  -0.01543166j, -0.00163029+0.00321381j,\n",
      "                -0.01621394+0.01082046j,  0.48618527+0.j        ]],\n",
      "              dims=(2, 2)) \n",
      "\n"
     ]
    }
   ],
   "source": [
    "for i in range(4):\n",
    "    print(batch_data2.experiment_data(i), '\\n')"
   ]
  },
  {
   "cell_type": "markdown",
   "metadata": {},
   "source": [
    "## Complicated Meta Experiments\n",
    "\n",
    "We can arbitrarily combine batch experiments and parallel experiments into nested metaexperiments (so long as the parallel experiment components are defined on different qubits of course).\n",
    "\n",
    "For example we can consider the following contribed example involving multiple layers of batch and parallel tomography experiments:"
   ]
  },
  {
   "cell_type": "code",
   "execution_count": 11,
   "metadata": {},
   "outputs": [
    {
     "data": {
      "text/plain": [
       "---------------------------------------------------\n",
       "Experiment: BatchExperiment\n",
       "Experiment ID: cfc07d5d-b260-4cd8-b653-beaa7abaa30a\n",
       "Status: Complete\n",
       "Qubits: [3, 0, 4, 1]\n",
       "Run Circuits: 24\n",
       "Run Analysis: 1\n",
       "---------------------------------------------------\n",
       "Last Analysis Result\n",
       "- experiment_types: ['ParallelExperiment', 'BatchExperiment', 'QSTExperiment']\n",
       "- experiment_ids: ['d2a56987-27ba-481b-91cc-ca2b8e693059', 'a41a2824-33e9-4608-8508-d520c57a17ad', '06e10fe2-c18e-44c0-a8a1-867b4c7d66f6']\n",
       "- experiment_qubits: [[3, 0, 4, 1], [4, 1], [3, 0]]"
      ]
     },
     "execution_count": 11,
     "metadata": {},
     "output_type": "execute_result"
    }
   ],
   "source": [
    "big_exp = BatchExperiment([\n",
    "            ParallelExperiment([exp3, ParallelExperiment([exp1, exp2])]),\n",
    "            BatchExperiment([exp1, exp2]),\n",
    "            exp3])\n",
    "big_data = big_exp.run(backend)\n",
    "big_data"
   ]
  },
  {
   "cell_type": "code",
   "execution_count": 12,
   "metadata": {},
   "outputs": [
    {
     "name": "stdout",
     "output_type": "stream",
     "text": [
      "---------------------------------------------------\n",
      "Experiment: ParallelExperiment\n",
      "Experiment ID: d2a56987-27ba-481b-91cc-ca2b8e693059\n",
      "Status: Complete\n",
      "Qubits: [3, 0, 4, 1]\n",
      "Run Circuits: 9\n",
      "Run Analysis: 1\n",
      "---------------------------------------------------\n",
      "Last Analysis Result\n",
      "- experiment_types: ['QSTExperiment', 'ParallelExperiment']\n",
      "- experiment_ids: ['ece0c742-5af0-4771-83f9-871c5b74b6e5', 'ba44c342-13db-42ef-9ef2-0d47e0d3b52d']\n",
      "- experiment_qubits: [[3, 0], [4, 1]] \n",
      "\n",
      "---------------------------------------------------\n",
      "Experiment: BatchExperiment\n",
      "Experiment ID: a41a2824-33e9-4608-8508-d520c57a17ad\n",
      "Status: Complete\n",
      "Qubits: [4, 1]\n",
      "Run Circuits: 6\n",
      "Run Analysis: 1\n",
      "---------------------------------------------------\n",
      "Last Analysis Result\n",
      "- experiment_types: ['QSTExperiment', 'QSTExperiment']\n",
      "- experiment_ids: ['0ff2e6b8-2ea7-4c5e-8c12-fb545f08d451', 'aeef9e9a-c7a7-4b7c-8ec4-06fc413c068e']\n",
      "- experiment_qubits: [[4], [1]] \n",
      "\n",
      "---------------------------------------------------\n",
      "Experiment: QSTExperiment\n",
      "Experiment ID: 06e10fe2-c18e-44c0-a8a1-867b4c7d66f6\n",
      "Status: Complete\n",
      "Qubits: [3, 0]\n",
      "Run Circuits: 9\n",
      "Run Analysis: 1\n",
      "---------------------------------------------------\n",
      "Last Analysis Result\n",
      "- value: DensityMatrix([[ 5.05858359e-01+0.j        , -2.41632460e-03-0.0045064j ,\n",
      "                -4.19652321e-03-0.00146168j,  4.98234967e-01-0.01024387j],\n",
      "               [-2.41632460e-03+0.0045064j ,  1.29136708e-03+0.j        ,\n",
      "                 3.08598437e-05+0.00120703j, -2.25733219e-03+0.00452496j],\n",
      "               [-4.19652321e-03+0.00146168j,  3.08598437e-05-0.00120703j,\n",
      "                 1.27422931e-03+0.j        , -4.06625661e-03+0.0014933j ],\n",
      "               [ 4.98234967e-01+0.01024387j, -2.25733219e-03-0.00452496j,\n",
      "                -4.06625661e-03-0.0014933j ,  4.90935833e-01+0.j        ]],\n",
      "              dims=(2, 2)) \n",
      "\n"
     ]
    }
   ],
   "source": [
    "# print sub experiments\n",
    "# We could also print the sub^2-experiments of the parallel and batch sub-experiments\n",
    "\n",
    "for i in range(3):\n",
    "    print(big_data.experiment_data(i), '\\n')"
   ]
  }
 ],
 "metadata": {
  "kernelspec": {
   "display_name": "Python [conda env:qiskit-dev]",
   "language": "python",
   "name": "conda-env-qiskit-dev-py"
  },
  "language_info": {
   "codemirror_mode": {
    "name": "ipython",
    "version": 3
   },
   "file_extension": ".py",
   "mimetype": "text/x-python",
   "name": "python",
   "nbconvert_exporter": "python",
   "pygments_lexer": "ipython3",
   "version": "3.7.7"
  }
 },
 "nbformat": 4,
 "nbformat_minor": 4
}
