{
 "cells": [
  {
   "cell_type": "markdown",
   "metadata": {},
   "source": [
    "# Expectation Value Experiments\n",
    "\n",
    "* Christopher Wood\n",
    "* Sep 3, 2020"
   ]
  },
  {
   "cell_type": "markdown",
   "metadata": {},
   "source": [
    "## Expectation Values\n",
    "\n",
    "Many quantum computing experiments and applications rely on estimating expecation values.\n",
    "\n",
    "Given an operator $O$, this is an experiment to estimate $\\langle O \\rangle = Tr[\\rho.O]$.\n",
    "\n",
    "The variance in the estimate is given by $\\sigma^2 = \\langle O^2 \\rangle - \\langle O \\rangle^2$, and standard error by $\\epsilon = \\sigma / \\sqrt{N}$, where $N$ is the number of samples (shots)."
   ]
  },
  {
   "cell_type": "code",
   "execution_count": 1,
   "metadata": {},
   "outputs": [
    {
     "name": "stdout",
     "output_type": "stream",
     "text": [
      "⟨𝑂⟩ = -1.457 ± 0.024\n"
     ]
    }
   ],
   "source": [
    "import numpy as np\n",
    "import qiskit.quantum_info as qi\n",
    "\n",
    "seed = 1000\n",
    "num_qubits = 1\n",
    "\n",
    "# Construct a random Hermitian Operator\n",
    "op = qi.random_hermitian(2 ** num_qubits, seed=seed)\n",
    "\n",
    "# Construct a random statevector\n",
    "state = qi.random_statevector(2 ** num_qubits, seed=seed)\n",
    "\n",
    "# Compute the exact expectation value\n",
    "expval = state.expectation_value(op).real\n",
    "\n",
    "# Compute the exact standard error\n",
    "shots = 1000\n",
    "variance = state.expectation_value(op.dot(op)).real - expval ** 2\n",
    "stderror = np.sqrt(variance / shots)\n",
    "\n",
    "print('⟨𝑂⟩ = {:.3f} \\u00B1 {:.3f}'.format(expval, stderror))"
   ]
  },
  {
   "cell_type": "markdown",
   "metadata": {},
   "source": [
    "## Expectation Values from Counts\n",
    "\n",
    "We introduce a function `expectation_value` that can return the expectation value and standard error computed from a counts dictionary. It has signature\n",
    "\n",
    "```python\n",
    "expectation_value(counts,\n",
    "                  diagonal=None,\n",
    "                  clbits=None,\n",
    "                  mitigator=None,\n",
    "                  mitigator_qubits=None\n",
    "```\n",
    "\n",
    "* The diagonal allows specifying a custom diagonal for an operator $O = \\sum_i O_i |i\\rangle\\langle i|$. If `None` the diagonal will be set to $O = Z^{\\otimes n}$.\n",
    "* Clbits allows marginalizing over counts to specific classical bits (Note: this can also be done using the diagonal kwarg by making the diagonal on marginal qubits correspond to the identity)\n",
    "* Mitigator allows passing in a `Mitigator` object to apply measurement error mitigation (we will show this later)\n",
    "* Mitogator qubits specifies which physical qubits the clbits correspond to so the correct mitigation parameters are applied"
   ]
  },
  {
   "cell_type": "code",
   "execution_count": 2,
   "metadata": {},
   "outputs": [
    {
     "name": "stdout",
     "output_type": "stream",
     "text": [
      "⟨Z⟩ = 0.096 ± 0.031\n"
     ]
    }
   ],
   "source": [
    "from qiskit.ignis.experiments import expectation_value\n",
    "\n",
    "counts = state.sample_counts(1000)\n",
    "ev, everror = expectation_value(counts)\n",
    "print('⟨Z⟩ = {:.3f} \\u00B1 {:.3f}'.format(ev, everror))"
   ]
  },
  {
   "cell_type": "markdown",
   "metadata": {},
   "source": [
    "## Expectation Value Experiments\n",
    "\n",
    "To make it easier to convert arbitrary operators and states into circuits for computing expectation values we introduce an `ExpectationValue` experiment class. The *experiment* part is how this is converted to quantum circuits and computed from count results.\n",
    "\n",
    "The default method is to perform Pauli-basis measurements by first converting $O$ into a `SparsePauliOp`\n",
    "$O = \\sum_i c_i P_i$ and construct a measurement circuit for each $P_i$.\n",
    "\n",
    "The resulting counts from each Pauli basis measurement are be converted to expectation values using the above `expectation_value` function. This analysis of results is automated by the `ExpectationValueAnalysis` class"
   ]
  },
  {
   "cell_type": "code",
   "execution_count": 3,
   "metadata": {},
   "outputs": [
    {
     "name": "stdout",
     "output_type": "stream",
     "text": [
      "⟨𝑂⟩ = -1.424 ± 0.027\n"
     ]
    }
   ],
   "source": [
    "from qiskit.ignis.experiments import ExpectationValueExperiment\n",
    "from qiskit.providers.aer import QasmSimulator\n",
    "\n",
    "# Create an expectation\n",
    "exp = ExpectationValueExperiment(op, initial_state=state)\n",
    "\n",
    "# Run on a backend\n",
    "expval_sim, stderror_sim = exp.run(QasmSimulator(), shots=1000)\n",
    "\n",
    "print('⟨𝑂⟩ = {:.3f} \\u00B1 {:.3f}'.format(expval_sim, stderror_sim))"
   ]
  },
  {
   "cell_type": "markdown",
   "metadata": {},
   "source": [
    "An experiment consists of a list of circuits and a list of metadata that can be used to analyze the results."
   ]
  },
  {
   "cell_type": "code",
   "execution_count": 4,
   "metadata": {},
   "outputs": [
    {
     "name": "stdout",
     "output_type": "stream",
     "text": [
      "{'basis': 'I',\n",
      " 'coeff': (-0.4034958421323671+0j),\n",
      " 'exp_id': '4c007058-77b2-463c-badb-4c08d9f0e03a',\n",
      " 'method': 'Pauli',\n",
      " 'name': 'expval',\n",
      " 'qubits': [0]}\n",
      "     ┌──────────────────────────────────────────────┐ ░ ┌─┐\n",
      "q_0: ┤ initialize(-0.7382+0.1363j,0.19129+0.63237j) ├─░─┤M├\n",
      "     └──────────────────────────────────────────────┘ ░ └╥┘\n",
      "c: 1/════════════════════════════════════════════════════╩═\n",
      "                                                         0 \n",
      "{'basis': 'X',\n",
      " 'coeff': (0.8400290642939854+0j),\n",
      " 'exp_id': '4c007058-77b2-463c-badb-4c08d9f0e03a',\n",
      " 'method': 'Pauli',\n",
      " 'name': 'expval',\n",
      " 'qubits': [0]}\n",
      "     ┌──────────────────────────────────────────────┐┌───┐ ░ ┌─┐\n",
      "q_0: ┤ initialize(-0.7382+0.1363j,0.19129+0.63237j) ├┤ H ├─░─┤M├\n",
      "     └──────────────────────────────────────────────┘└───┘ ░ └╥┘\n",
      "c: 1/═════════════════════════════════════════════════════════╩═\n",
      "                                                              0 \n",
      "{'basis': 'Y',\n",
      " 'coeff': (0.9852634410528578+0j),\n",
      " 'exp_id': '4c007058-77b2-463c-badb-4c08d9f0e03a',\n",
      " 'method': 'Pauli',\n",
      " 'name': 'expval',\n",
      " 'qubits': [0]}\n",
      "     ┌──────────────────────────────────────────────┐┌─────┐┌───┐ ░ ┌─┐\n",
      "q_0: ┤ initialize(-0.7382+0.1363j,0.19129+0.63237j) ├┤ SDG ├┤ H ├─░─┤M├\n",
      "     └──────────────────────────────────────────────┘└─────┘└───┘ ░ └╥┘\n",
      "c: 1/════════════════════════════════════════════════════════════════╩═\n",
      "                                                                     0 \n",
      "{'basis': 'Z',\n",
      " 'coeff': (0.08216563613446312+0j),\n",
      " 'exp_id': '4c007058-77b2-463c-badb-4c08d9f0e03a',\n",
      " 'method': 'Pauli',\n",
      " 'name': 'expval',\n",
      " 'qubits': [0]}\n",
      "     ┌──────────────────────────────────────────────┐ ░ ┌─┐\n",
      "q_0: ┤ initialize(-0.7382+0.1363j,0.19129+0.63237j) ├─░─┤M├\n",
      "     └──────────────────────────────────────────────┘ ░ └╥┘\n",
      "c: 1/════════════════════════════════════════════════════╩═\n",
      "                                                         0 \n"
     ]
    }
   ],
   "source": [
    "from pprint import pprint\n",
    "for circ, meta in zip(exp.generator.circuits(), exp.generator.metadata()):\n",
    "    pprint(meta)\n",
    "    print(circ.draw())"
   ]
  },
  {
   "cell_type": "markdown",
   "metadata": {},
   "source": [
    "## Expectation Value Measurement Error Mitigation\n",
    "\n",
    "Real experiments have measurement noise that must be dealt with to get more accurate estimates of expectation values.\n",
    "\n",
    "Ignis will include 3 types of measurement error mitigation:\n",
    "\n",
    "* Full A-matrix mitigation\n",
    "* Single-qubit tensor product A-matrix mitigation\n",
    "* CTMP mitigation\n",
    "\n",
    "To apply mitigation we must first perform an experiment to calibrate a measurement `Mitigator` object, which can then be used to apply mitigation in an `ExpectationValue` experiment"
   ]
  },
  {
   "cell_type": "code",
   "execution_count": 5,
   "metadata": {},
   "outputs": [],
   "source": [
    "from qiskit.test.mock import FakeBoeblingen\n",
    "from qiskit.providers.aer.noise import NoiseModel\n",
    "\n",
    "# Create a noisy Mock simulator backend\n",
    "backend = FakeBoeblingen()\n",
    "sim = QasmSimulator()\n",
    "noise_model = NoiseModel.from_backend(backend,\n",
    "                                      warnings=False)\n",
    "sim.configuration().basis_gates = noise_model.basis_gates"
   ]
  },
  {
   "cell_type": "markdown",
   "metadata": {},
   "source": [
    "### CTMP Mitigation calibration experiment\n",
    "\n",
    "We will now consider an example where we calibrate a 4-qubit CTMP mitigator"
   ]
  },
  {
   "cell_type": "code",
   "execution_count": 6,
   "metadata": {},
   "outputs": [],
   "source": [
    "from qiskit.ignis.experiments import MeasMitigatorExperiment, MeasMitigatorAnalysis\n",
    "\n",
    "num_qubits = 4\n",
    "mit_exp = MeasMitigatorExperiment(num_qubits, method='CTMP')\n",
    "mitigator = mit_exp.run(sim, noise_model=noise_model)"
   ]
  },
  {
   "cell_type": "markdown",
   "metadata": {},
   "source": [
    "The output of this experiment is a `Mitigator` object which contains information about the types of errors. It can be used, for example, to return a full Assignment matrix $A$, or mitigation matrix ($A^{-1}$)"
   ]
  },
  {
   "cell_type": "code",
   "execution_count": 7,
   "metadata": {},
   "outputs": [
    {
     "data": {
      "text/plain": [
       "<AxesSubplot:xlabel='Prepared State', ylabel='Measured State'>"
      ]
     },
     "execution_count": 7,
     "metadata": {},
     "output_type": "execute_result"
    },
    {
     "data": {
      "image/png": "[encoded data removed]",
      "text/plain": [
       "<Figure size 432x288 with 2 Axes>"
      ]
     },
     "metadata": {
      "needs_background": "light"
     },
     "output_type": "display_data"
    }
   ],
   "source": [
    "# Plot assignment matrix\n",
    "mitigator.plot_assignment_matrix()"
   ]
  },
  {
   "cell_type": "code",
   "execution_count": 8,
   "metadata": {},
   "outputs": [
    {
     "data": {
      "text/plain": [
       "<AxesSubplot:xlabel='Prepared State', ylabel='Measured State'>"
      ]
     },
     "execution_count": 8,
     "metadata": {},
     "output_type": "execute_result"
    },
    {
     "data": {
      "image/png": "[encoded data removed]",
      "text/plain": [
       "<Figure size 432x288 with 2 Axes>"
      ]
     },
     "metadata": {
      "needs_background": "light"
     },
     "output_type": "display_data"
    }
   ],
   "source": [
    "# Plot mitigation matrix\n",
    "mitigator.plot_mitigation_matrix()"
   ]
  },
  {
   "cell_type": "markdown",
   "metadata": {},
   "source": [
    "### Assignment Fidelity\n",
    "\n",
    "The mitigator also can compute the assignment fidelity for all qubits, or subsets of qubits"
   ]
  },
  {
   "cell_type": "code",
   "execution_count": 9,
   "metadata": {},
   "outputs": [
    {
     "name": "stdout",
     "output_type": "stream",
     "text": [
      "F_a = 0.760\n"
     ]
    }
   ],
   "source": [
    "# 4-qubit measurement assignment fidelity\n",
    "print('F_a = {:.3f}'.format(mitigator.assignment_fidelity()))"
   ]
  },
  {
   "cell_type": "code",
   "execution_count": 10,
   "metadata": {},
   "outputs": [
    {
     "name": "stdout",
     "output_type": "stream",
     "text": [
      "F_a(0) = 0.978\n",
      "F_a(1) = 0.969\n",
      "F_a(2) = 0.825\n",
      "F_a(3) = 0.980\n"
     ]
    }
   ],
   "source": [
    "# Single-qubit measurement assignment fidelities\n",
    "for i in range(num_qubits):\n",
    "    print('F_a({}) = {:.3f}'.format(i, mitigator.assignment_fidelity([i])))"
   ]
  },
  {
   "cell_type": "markdown",
   "metadata": {},
   "source": [
    "### Mitigation Overhead\n",
    "\n",
    "We can also compute the mitigation overhead for given measurement error rates.\n",
    "The overhead is the number of additional shots required to obtain expectation value estimates with the same statistical accuracy as unmitigated expectation values"
   ]
  },
  {
   "cell_type": "code",
   "execution_count": 11,
   "metadata": {},
   "outputs": [
    {
     "data": {
      "text/plain": [
       "7"
      ]
     },
     "execution_count": 11,
     "metadata": {},
     "output_type": "execute_result"
    }
   ],
   "source": [
    "# 4-qubit expectation values\n",
    "mitigator.mitigation_overhead()"
   ]
  },
  {
   "cell_type": "markdown",
   "metadata": {},
   "source": [
    "## Expectation Values with mitigation\n",
    "\n",
    "To demonstrate mitigation we will use an example of estimating the fidelity of a graph state.\n",
    "\n",
    "We can do this by computing the stabilizers of a graph state, and defining our observable to be $\\sum_{i=1}^N S_i / N$ for $N=2^n$"
   ]
  },
  {
   "cell_type": "code",
   "execution_count": 12,
   "metadata": {},
   "outputs": [],
   "source": [
    "def coupling_graph(backend, max_qubits):\n",
    "    \"\"\"Get coupling graph for a backend.\"\"\"\n",
    "    return np.unique(\n",
    "        [sorted(i) for i in backend.configuration().coupling_map\n",
    "         if max(i) < max_qubits], axis=0).tolist()"
   ]
  },
  {
   "cell_type": "markdown",
   "metadata": {},
   "source": [
    "First we generate a graph state circuit for the native coupling map of a backend"
   ]
  },
  {
   "cell_type": "code",
   "execution_count": 13,
   "metadata": {},
   "outputs": [
    {
     "data": {
      "text/html": [
       "<pre style=\"word-wrap: normal;white-space: pre;background: #fff0;line-height: 1.1;font-family: &quot;Courier New&quot;,Courier,monospace\">     ┌───┐         \n",
       "q_0: ┤ H ├─■───────\n",
       "     ├───┤ │       \n",
       "q_1: ┤ H ├─■──■────\n",
       "     ├───┤    │    \n",
       "q_2: ┤ H ├────■──■─\n",
       "     ├───┤       │ \n",
       "q_3: ┤ H ├───────■─\n",
       "     └───┘         </pre>"
      ],
      "text/plain": [
       "     ┌───┐         \n",
       "q_0: ┤ H ├─■───────\n",
       "     ├───┤ │       \n",
       "q_1: ┤ H ├─■──■────\n",
       "     ├───┤    │    \n",
       "q_2: ┤ H ├────■──■─\n",
       "     ├───┤       │ \n",
       "q_3: ┤ H ├───────■─\n",
       "     └───┘         "
      ]
     },
     "execution_count": 13,
     "metadata": {},
     "output_type": "execute_result"
    }
   ],
   "source": [
    "from qiskit import QuantumCircuit\n",
    "\n",
    "num_qubits = 4\n",
    "graph = coupling_graph(backend, num_qubits)\n",
    "\n",
    "graph_state = QuantumCircuit(num_qubits)\n",
    "graph_state.h(range(num_qubits))\n",
    "for i, j in graph:\n",
    "    graph_state.cz(i, j)\n",
    "graph_state.draw()"
   ]
  },
  {
   "cell_type": "markdown",
   "metadata": {},
   "source": [
    "Next we use the Clifford class to find the stabilizers for this state"
   ]
  },
  {
   "cell_type": "code",
   "execution_count": 14,
   "metadata": {},
   "outputs": [
    {
     "name": "stdout",
     "output_type": "stream",
     "text": [
      "['IIZX', 'IZXZ', 'ZXZI', 'XZII']\n"
     ]
    }
   ],
   "source": [
    "clifford = qi.Clifford(graph_state)\n",
    "stabilizers = clifford.stabilizer.pauli\n",
    "print(stabilizers.to_labels())"
   ]
  },
  {
   "cell_type": "markdown",
   "metadata": {},
   "source": [
    "Next we convert the stabilizers to a SparsePauliOp observable"
   ]
  },
  {
   "cell_type": "code",
   "execution_count": 15,
   "metadata": {},
   "outputs": [],
   "source": [
    "N = len(stabilizers)\n",
    "stab_op = qi.SparsePauliOp(stabilizers, N * [1 / N])"
   ]
  },
  {
   "cell_type": "markdown",
   "metadata": {},
   "source": [
    "### Target fidelity\n",
    "\n",
    "First we compute the fidelity based on the noise model without measurement error"
   ]
  },
  {
   "cell_type": "code",
   "execution_count": 16,
   "metadata": {},
   "outputs": [
    {
     "name": "stdout",
     "output_type": "stream",
     "text": [
      "F(target) = 0.962\n"
     ]
    }
   ],
   "source": [
    "from qiskit.providers.aer.utils import insert_noise\n",
    "\n",
    "state_ideal = qi.Statevector.from_instruction(graph_state)\n",
    "state_target = qi.DensityMatrix.from_instruction(insert_noise(graph_state, noise_model, transpile=True))\n",
    "F_target = qi.state_fidelity(state_ideal, state_target)\n",
    "print('F(target) = {:.3f}'.format(F_target))"
   ]
  },
  {
   "cell_type": "markdown",
   "metadata": {},
   "source": [
    "### Running the experiment\n",
    "\n",
    "Next we run the expectation value experiment with readout and gate noise, and we will process the results both with and without error mitigation"
   ]
  },
  {
   "cell_type": "code",
   "execution_count": 17,
   "metadata": {},
   "outputs": [
    {
     "data": {
      "text/plain": [
       "<qiskit.ignis.experiments.expval.expval_experiment.ExpectationValueExperiment at 0x7fc18233b090>"
      ]
     },
     "execution_count": 17,
     "metadata": {},
     "output_type": "execute_result"
    }
   ],
   "source": [
    "shots = 8192\n",
    "stab_exp = ExpectationValueExperiment(stab_op, initial_state=graph_state)\n",
    "stab_exp.execute(sim, shots=shots, noise_model=noise_model)"
   ]
  },
  {
   "cell_type": "code",
   "execution_count": 18,
   "metadata": {},
   "outputs": [
    {
     "name": "stdout",
     "output_type": "stream",
     "text": [
      "F(no-mit) = 0.642 ± 0.004\n"
     ]
    }
   ],
   "source": [
    "expval_noise, error_noise = stab_exp.run_analysis()\n",
    "print('F(no-mit) = {:.3f} \\u00B1 {:.3f}'.format(expval_noise, error_noise))"
   ]
  },
  {
   "cell_type": "code",
   "execution_count": 19,
   "metadata": {},
   "outputs": [
    {
     "name": "stdout",
     "output_type": "stream",
     "text": [
      "F(no-mit) = 0.960 ± 0.085\n"
     ]
    }
   ],
   "source": [
    "expval_noise, error_noise = stab_exp.run_analysis(mitigator=mitigator)\n",
    "print('F(no-mit) = {:.3f} \\u00B1 {:.3f}'.format(expval_noise, error_noise))"
   ]
  },
  {
   "cell_type": "markdown",
   "metadata": {},
   "source": [
    "## Snapshot expectation value experiment\n",
    "\n",
    "We also include a snapshot method for expectation value experiments that can take advantage of the Aer simulator snapshot instructions to perform a measurement more efficiently.\n",
    "\n",
    "This will include the effect of gate noise, but not sampling noise or readout noise"
   ]
  },
  {
   "cell_type": "code",
   "execution_count": 20,
   "metadata": {},
   "outputs": [
    {
     "name": "stderr",
     "output_type": "stream",
     "text": [
      "No measurements in circuit \"circuit128\": count data will return all zeros.\n"
     ]
    },
    {
     "name": "stdout",
     "output_type": "stream",
     "text": [
      "F(snapshot) = 0.969 ± 0.002\n"
     ]
    }
   ],
   "source": [
    "# Run without noise\n",
    "exp_snap = ExpectationValueExperiment(stab_op, initial_state=graph_state, method='snapshot')\n",
    "expval, error = exp_snap.run(sim, shots=shots, noise_model=noise_model)\n",
    "print('F(snapshot) = {:.3f} \\u00B1 {:.3f}'.format(expval, error))"
   ]
  },
  {
   "cell_type": "code",
   "execution_count": 21,
   "metadata": {},
   "outputs": [
    {
     "name": "stdout",
     "output_type": "stream",
     "text": [
      "     ┌───┐          ░  ░ \n",
      "q_0: ┤ H ├─■────────░──░─\n",
      "     ├───┤ │        ░  ░ \n",
      "q_1: ┤ H ├─■──■─────░──░─\n",
      "     ├───┤    │     ░  ░ \n",
      "q_2: ┤ H ├────■──■──░──░─\n",
      "     ├───┤       │  ░  ░ \n",
      "q_3: ┤ H ├───────■──░──░─\n",
      "     └───┘          ░  ░ \n",
      "c: 4/════════════════════\n",
      "                         \n"
     ]
    }
   ],
   "source": [
    "for i in exp_snap.generator.circuits():\n",
    "    print(i.draw())"
   ]
  }
 ],
 "metadata": {
  "kernelspec": {
   "display_name": "Python [conda env:qiskit-dev]",
   "language": "python",
   "name": "conda-env-qiskit-dev-py"
  },
  "language_info": {
   "codemirror_mode": {
    "name": "ipython",
    "version": 3
   },
   "file_extension": ".py",
   "mimetype": "text/x-python",
   "name": "python",
   "nbconvert_exporter": "python",
   "pygments_lexer": "ipython3",
   "version": "3.7.7"
  }
 },
 "nbformat": 4,
 "nbformat_minor": 4
}
